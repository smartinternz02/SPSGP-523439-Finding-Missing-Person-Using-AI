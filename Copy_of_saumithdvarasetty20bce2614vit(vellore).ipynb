{
  "nbformat": 4,
  "nbformat_minor": 0,
  "metadata": {
    "colab": {
      "provenance": []
    },
    "kernelspec": {
      "name": "python3",
      "display_name": "Python 3"
    },
    "language_info": {
      "name": "python"
    }
  },
  "cells": [
    {
      "cell_type": "code",
      "execution_count": null,
      "metadata": {
        "id": "yCLItw00jq_u"
      },
      "outputs": [],
      "source": [
        "#ASSIGNMENT-1 20BCE2614 DEVARASETTY SAUMITH Q1\n",
        "import pandas as pd\n",
        "import numpy as np\n",
        "\n",
        "np.random.seed(42)\n",
        "\n",
        "data = np.random.randn(4, 4)\n",
        "\n",
        "df = pd.DataFrame(data, columns=[' 1', ' 2', ' 3', ' 4'])\n"
      ]
    },
    {
      "cell_type": "code",
      "source": [
        "print(df)\n"
      ],
      "metadata": {
        "colab": {
          "base_uri": "https://localhost:8080/"
        },
        "id": "fNsHMnN1j3_Q",
        "outputId": "f2b12d83-ac11-46d4-d329-45d221de06ab"
      },
      "execution_count": null,
      "outputs": [
        {
          "output_type": "stream",
          "name": "stdout",
          "text": [
            "          1         2         3         4\n",
            "0  0.496714 -0.138264  0.647689  1.523030\n",
            "1 -0.234153 -0.234137  1.579213  0.767435\n",
            "2 -0.469474  0.542560 -0.463418 -0.465730\n",
            "3  0.241962 -1.913280 -1.724918 -0.562288\n"
          ]
        }
      ]
    },
    {
      "cell_type": "code",
      "source": [
        "#QUESTION-2\n",
        "df.columns = ['random value 1', 'random value 2', 'random value 3', 'random value 4']\n"
      ],
      "metadata": {
        "id": "RtIuuHP2kV75"
      },
      "execution_count": null,
      "outputs": []
    },
    {
      "cell_type": "code",
      "source": [
        "print(df)"
      ],
      "metadata": {
        "colab": {
          "base_uri": "https://localhost:8080/"
        },
        "id": "SbZW-exjlNPg",
        "outputId": "6b00a551-1581-46d1-fac4-d594790d00fb"
      },
      "execution_count": null,
      "outputs": [
        {
          "output_type": "stream",
          "name": "stdout",
          "text": [
            "   random value 1  random value 2  random value 3  random value 4\n",
            "0        0.496714       -0.138264        0.647689        1.523030\n",
            "1       -0.234153       -0.234137        1.579213        0.767435\n",
            "2       -0.469474        0.542560       -0.463418       -0.465730\n",
            "3        0.241962       -1.913280       -1.724918       -0.562288\n"
          ]
        }
      ]
    },
    {
      "cell_type": "code",
      "source": [
        "#QUESTION-3\n",
        "df_descriptive_stats = df.describe()\n",
        "\n",
        "print(df_descriptive_stats)\n"
      ],
      "metadata": {
        "colab": {
          "base_uri": "https://localhost:8080/"
        },
        "id": "RQwszvv1lfLq",
        "outputId": "f29ab709-ade6-417b-d77d-49d9b180cd77"
      },
      "execution_count": null,
      "outputs": [
        {
          "output_type": "stream",
          "name": "stdout",
          "text": [
            "       random value 1  random value 2  random value 3  random value 4\n",
            "count        4.000000        4.000000        4.000000        4.000000\n",
            "mean         0.008762       -0.435780        0.009641        0.315612\n",
            "std          0.439772        1.043924        1.426317        1.007175\n",
            "min         -0.469474       -1.913280       -1.724918       -0.562288\n",
            "25%         -0.292984       -0.653923       -0.778793       -0.489869\n",
            "50%          0.003904       -0.186201        0.092135        0.150852\n",
            "75%          0.305650        0.031942        0.880570        0.956334\n",
            "max          0.496714        0.542560        1.579213        1.523030\n"
          ]
        }
      ]
    },
    {
      "cell_type": "code",
      "source": [
        "#QUESTION-4\n",
        "\n",
        "null_values = df.isnull().sum()\n",
        "print(\"Null Values:\\n\", null_values)\n",
        "\n",
        "\n",
        "data_types = df.dtypes\n",
        "print(\"\\nData Types:\\n\", data_types)\n"
      ],
      "metadata": {
        "colab": {
          "base_uri": "https://localhost:8080/"
        },
        "id": "IUhrYrQnltbJ",
        "outputId": "53f3af73-6eaf-4f96-8bfe-9e731cc80e5b"
      },
      "execution_count": null,
      "outputs": [
        {
          "output_type": "stream",
          "name": "stdout",
          "text": [
            "Null Values:\n",
            " random value 1    0\n",
            "random value 2    0\n",
            "random value 3    0\n",
            "random value 4    0\n",
            "dtype: int64\n",
            "\n",
            "Data Types:\n",
            " random value 1    float64\n",
            "random value 2    float64\n",
            "random value 3    float64\n",
            "random value 4    float64\n",
            "dtype: object\n"
          ]
        }
      ]
    },
    {
      "cell_type": "code",
      "source": [
        "#question-5\n",
        "# Using location method (.loc)\n",
        "columns_loc = df.loc[:, ['random value 2', 'random value 3']]\n",
        "print(\"Using .loc:\\n\", columns_loc)\n"
      ],
      "metadata": {
        "colab": {
          "base_uri": "https://localhost:8080/"
        },
        "id": "NewisQmBl57o",
        "outputId": "c7dc96ad-e720-4b46-b220-b35fbd0e8f43"
      },
      "execution_count": null,
      "outputs": [
        {
          "output_type": "stream",
          "name": "stdout",
          "text": [
            "Using .loc:\n",
            "    random value 2  random value 3\n",
            "0       -0.138264        0.647689\n",
            "1       -0.234137        1.579213\n",
            "2        0.542560       -0.463418\n",
            "3       -1.913280       -1.724918\n"
          ]
        }
      ]
    },
    {
      "cell_type": "code",
      "source": [
        "# Using index location method (.iloc)\n",
        "columns_iloc = df.iloc[:, [1, 2]]  # Column indices start from 0\n",
        "print(\"\\nUsing .iloc:\\n\", columns_iloc)\n"
      ],
      "metadata": {
        "colab": {
          "base_uri": "https://localhost:8080/"
        },
        "id": "lbtZqFY9l9dv",
        "outputId": "4262afa0-327a-4b44-b221-c87ce4d6a24f"
      },
      "execution_count": null,
      "outputs": [
        {
          "output_type": "stream",
          "name": "stdout",
          "text": [
            "\n",
            "Using .iloc:\n",
            "    random value 2  random value 3\n",
            "0       -0.138264        0.647689\n",
            "1       -0.234137        1.579213\n",
            "2        0.542560       -0.463418\n",
            "3       -1.913280       -1.724918\n"
          ]
        }
      ]
    }
  ]
}